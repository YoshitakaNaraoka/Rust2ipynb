{
 "cells": [
  {
   "cell_type": "code",
   "execution_count": 1,
   "metadata": {},
   "outputs": [
    {
     "name": "stdout",
     "output_type": "stream",
     "text": [
      "Collecting maturin\n",
      "  Downloading maturin-1.4.0-py3-none-win_amd64.whl.metadata (18 kB)\n",
      "Downloading maturin-1.4.0-py3-none-win_amd64.whl (7.2 MB)\n",
      "   ---------------------------------------- 0.0/7.2 MB ? eta -:--:--\n",
      "   ---------------------------------------- 0.0/7.2 MB ? eta -:--:--\n",
      "   ---------------------------------------- 0.0/7.2 MB 660.6 kB/s eta 0:00:11\n",
      "   - -------------------------------------- 0.2/7.2 MB 2.2 MB/s eta 0:00:04\n",
      "   ---- ----------------------------------- 0.9/7.2 MB 6.9 MB/s eta 0:00:01\n",
      "   --------------- ------------------------ 2.8/7.2 MB 16.3 MB/s eta 0:00:01\n",
      "   ----------------------- ---------------- 4.3/7.2 MB 19.5 MB/s eta 0:00:01\n",
      "   ---------------------------------- ----- 6.2/7.2 MB 23.5 MB/s eta 0:00:01\n",
      "   ---------------------------------------  7.2/7.2 MB 24.2 MB/s eta 0:00:01\n",
      "   ---------------------------------------  7.2/7.2 MB 24.2 MB/s eta 0:00:01\n",
      "   ---------------------------------------- 7.2/7.2 MB 18.5 MB/s eta 0:00:00\n",
      "Installing collected packages: maturin\n",
      "Successfully installed maturin-1.4.0\n",
      "Note: you may need to restart the kernel to use updated packages.\n"
     ]
    }
   ],
   "source": [
    "%pip install maturin"
   ]
  },
  {
   "cell_type": "code",
   "execution_count": 3,
   "metadata": {},
   "outputs": [
    {
     "ename": "ImportError",
     "evalue": "cannot import name 'main' from 'helloCargo.src' (unknown location)",
     "output_type": "error",
     "traceback": [
      "\u001b[1;31m---------------------------------------------------------------------------\u001b[0m",
      "\u001b[1;31mImportError\u001b[0m                               Traceback (most recent call last)",
      "Cell \u001b[1;32mIn[3], line 1\u001b[0m\n\u001b[1;32m----> 1\u001b[0m \u001b[38;5;28;01mfrom\u001b[39;00m \u001b[38;5;21;01mhelloCargo\u001b[39;00m\u001b[38;5;21;01m.\u001b[39;00m\u001b[38;5;21;01msrc\u001b[39;00m \u001b[38;5;28;01mimport\u001b[39;00m main \n",
      "\u001b[1;31mImportError\u001b[0m: cannot import name 'main' from 'helloCargo.src' (unknown location)"
     ]
    }
   ],
   "source": []
  }
 ],
 "metadata": {
  "kernelspec": {
   "display_name": "Python 3",
   "language": "python",
   "name": "python3"
  },
  "language_info": {
   "codemirror_mode": {
    "name": "ipython",
    "version": 3
   },
   "file_extension": ".py",
   "mimetype": "text/x-python",
   "name": "python",
   "nbconvert_exporter": "python",
   "pygments_lexer": "ipython3",
   "version": "3.12.1"
  }
 },
 "nbformat": 4,
 "nbformat_minor": 2
}
